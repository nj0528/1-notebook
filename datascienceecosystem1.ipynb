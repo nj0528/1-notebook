{
 "cells": [
  {
   "cell_type": "markdown",
   "id": "45da290d",
   "metadata": {},
   "source": [
    "## Data Science Tools and Ecosystem "
   ]
  },
  {
   "cell_type": "markdown",
   "id": "c8b86e17",
   "metadata": {},
   "source": [
    "# In this notebook, Data Science Tools and Ecosystem are summarized.\n",
    "\n"
   ]
  },
  {
   "cell_type": "markdown",
   "id": "c671be60",
   "metadata": {},
   "source": [
    "# Some of the popular languages that Data Scientists use are:\n",
    "\n",
    "1. Python\n",
    "2. R\n",
    "3. Julia"
   ]
  },
  {
   "cell_type": "markdown",
   "id": "8defadc0",
   "metadata": {},
   "source": [
    "# Some of the commonly used libraries used by Data Scientists include:\n",
    "\n",
    "1. Numpy\n",
    "\n",
    "2.Pandas\n",
    "\n",
    "3. ggplot\n"
   ]
  },
  {
   "cell_type": "markdown",
   "id": "1fa47b48",
   "metadata": {},
   "source": [
    "# Data Science Tools\n",
    "\n",
    "1.R studio\n",
    "\n",
    "2.Hadoop\n",
    "\n",
    "3. Apache Spark\n"
   ]
  },
  {
   "cell_type": "markdown",
   "id": "2d6d89b9",
   "metadata": {},
   "source": [
    "## Below are a few examples of evaluating arithmetic expressions in Python.\n",
    "\n",
    "\n",
    "\n",
    "\n"
   ]
  },
  {
   "cell_type": "code",
   "execution_count": 3,
   "id": "7485036c",
   "metadata": {},
   "outputs": [
    {
     "data": {
      "text/plain": [
       "25"
      ]
     },
     "execution_count": 3,
     "metadata": {},
     "output_type": "execute_result"
    }
   ],
   "source": [
    "10+15\n"
   ]
  },
  {
   "cell_type": "markdown",
   "id": "ca07d467",
   "metadata": {},
   "source": [
    "<!-- This a simple arithmetic expression to mutiply then add integers -->\n"
   ]
  },
  {
   "cell_type": "code",
   "execution_count": 5,
   "id": "3cf7922f",
   "metadata": {},
   "outputs": [
    {
     "data": {
      "text/plain": [
       "17"
      ]
     },
     "execution_count": 5,
     "metadata": {},
     "output_type": "execute_result"
    }
   ],
   "source": [
    "(3*4)+5\n"
   ]
  },
  {
   "cell_type": "code",
   "execution_count": null,
   "id": "686f675c",
   "metadata": {},
   "outputs": [],
   "source": [
    "<!-- This will convert 200 minutes to hours by diving by 60 -->\n",
    "\n"
   ]
  },
  {
   "cell_type": "code",
   "execution_count": 8,
   "id": "132eeeaf",
   "metadata": {},
   "outputs": [
    {
     "data": {
      "text/plain": [
       "3.3333333333333335"
      ]
     },
     "execution_count": 8,
     "metadata": {},
     "output_type": "execute_result"
    }
   ],
   "source": [
    "200/60\n",
    "\n"
   ]
  },
  {
   "cell_type": "markdown",
   "id": "6af472a0",
   "metadata": {},
   "source": [
    "# Objectives\n",
    "## List popular languages for Data Science.\n",
    "\n",
    "-Python\n",
    "\n",
    "-R\n",
    "\n",
    "-Julia"
   ]
  },
  {
   "cell_type": "markdown",
   "id": "df5e68e8",
   "metadata": {},
   "source": [
    "## Author\n",
    "Nayanthara"
   ]
  },
  {
   "cell_type": "code",
   "execution_count": null,
   "id": "7ec25112",
   "metadata": {},
   "outputs": [],
   "source": []
  }
 ],
 "metadata": {
  "kernelspec": {
   "display_name": "Python 3 (ipykernel)",
   "language": "python",
   "name": "python3"
  },
  "language_info": {
   "codemirror_mode": {
    "name": "ipython",
    "version": 3
   },
   "file_extension": ".py",
   "mimetype": "text/x-python",
   "name": "python",
   "nbconvert_exporter": "python",
   "pygments_lexer": "ipython3",
   "version": "3.10.9"
  }
 },
 "nbformat": 4,
 "nbformat_minor": 5
}
